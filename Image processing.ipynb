{
 "cells": [
  {
   "cell_type": "code",
   "execution_count": null,
   "id": "bdaa7b83-b7c0-4609-bc22-67908341329e",
   "metadata": {},
   "outputs": [
    {
     "name": "stdout",
     "output_type": "stream",
     "text": [
      "Example input path: /Users/yourusername/Desktop/example.jpg\n"
     ]
    },
    {
     "name": "stdin",
     "output_type": "stream",
     "text": [
      "Enter the path of the input image (default is ~/Desktop/example.jpg):  /Users/eason/Desktop/image.jpg\n"
     ]
    },
    {
     "name": "stdout",
     "output_type": "stream",
     "text": [
      "Example output path: /Users/yourusername/Desktop/processed_image.jpg\n"
     ]
    },
    {
     "name": "stdin",
     "output_type": "stream",
     "text": [
      "Enter the path for the output image (default is ~/Desktop/processed_image.jpg):  /Users/eason/Desktop/processed_image.jpg\n"
     ]
    },
    {
     "name": "stdout",
     "output_type": "stream",
     "text": [
      "\n",
      "Choose a function:\n",
      "1. Invert image(反相)\n",
      "2. Resize image(縮放)\n",
      "3. Adjust brightness(亮度)\n",
      "4. Adjust contrast(對比度)\n",
      "5. Adjust color(彩度)\n",
      "6. Rotate image(旋轉)\n",
      "7. Crop image with fixed ratio(裁剪)\n",
      "8. Quit(退出)\n"
     ]
    },
    {
     "name": "stdin",
     "output_type": "stream",
     "text": [
      "Choose a function (1-8):  7\n"
     ]
    },
    {
     "name": "stdout",
     "output_type": "stream",
     "text": [
      "Image dimensions: width = 644, height = 644\n"
     ]
    },
    {
     "name": "stdin",
     "output_type": "stream",
     "text": [
      "Enter the center x coordinate (0 to 643):  300\n",
      "Enter the center y coordinate (0 to 643):  300\n",
      "Enter the width ratio (e.g., 16 for 16:9):  16\n",
      "Enter the height ratio (e.g., 9 for 16:9):  9\n"
     ]
    },
    {
     "name": "stdout",
     "output_type": "stream",
     "text": [
      "\n",
      "Choose a function:\n",
      "1. Invert image(反相)\n",
      "2. Resize image(縮放)\n",
      "3. Adjust brightness(亮度)\n",
      "4. Adjust contrast(對比度)\n",
      "5. Adjust color(彩度)\n",
      "6. Rotate image(旋轉)\n",
      "7. Crop image with fixed ratio(裁剪)\n",
      "8. Quit(退出)\n"
     ]
    }
   ],
   "source": [
    "import os\n",
    "from PIL import Image, ImageEnhance\n",
    "import numpy as np\n",
    "\n",
    "# Load image\n",
    "def load_image(file_path):\n",
    "    return Image.open(file_path)\n",
    "\n",
    "# Save image\n",
    "def save_image(image, file_path):\n",
    "    image.save(file_path)\n",
    "\n",
    "# Invert image\n",
    "def invert_image(image):\n",
    "    return Image.fromarray(255 - np.array(image))\n",
    "\n",
    "# Resize image\n",
    "def resize_image(image, scale_factor):\n",
    "    new_size = (int(image.width * scale_factor), int(image.height * scale_factor))\n",
    "    return image.resize(new_size)\n",
    "\n",
    "# Adjust brightness\n",
    "def adjust_brightness(image, factor):\n",
    "    enhancer = ImageEnhance.Brightness(image)\n",
    "    return enhancer.enhance(factor)\n",
    "\n",
    "# Adjust contrast\n",
    "def adjust_contrast(image, factor):\n",
    "    enhancer = ImageEnhance.Contrast(image)\n",
    "    return enhancer.enhance(factor)\n",
    "\n",
    "# Adjust color\n",
    "def adjust_color(image, factor):\n",
    "    enhancer = ImageEnhance.Color(image)\n",
    "    return enhancer.enhance(factor)\n",
    "\n",
    "# Rotate image\n",
    "def rotate_image(image, angle):\n",
    "    return image.rotate(angle, expand=True)\n",
    "\n",
    "# Crop image\n",
    "def crop_image_fixed_ratio(image, center_x, center_y, ratio_width, ratio_height):\n",
    "    img_width, img_height = image.size\n",
    "    ratio = ratio_width / ratio_height\n",
    "    new_width = min(img_width, img_height * ratio)\n",
    "    new_height = min(img_height, img_width / ratio)\n",
    "    \n",
    "    left = max(center_x - new_width / 2, 0)\n",
    "    top = max(center_y - new_height / 2, 0)\n",
    "    right = min(center_x + new_width / 2, img_width)\n",
    "    bottom = min(center_y + new_height / 2, img_height)\n",
    "    \n",
    "    return image.crop((left, top, right, bottom))\n",
    "\n",
    "def main():\n",
    "    desktop_path = os.path.expanduser(\"~/Desktop\")\n",
    "    print(\"Example input path: /Users/yourusername/Desktop/example.jpg\")\n",
    "    input_image_path = input(\"Enter the path of the input image (default is ~/Desktop/example.jpg): \") or os.path.join(desktop_path, \"example.jpg\")\n",
    "\n",
    "    if not os.path.exists(input_image_path):\n",
    "        print(f\"Image {input_image_path} doesn't exist. Please check the path.\")\n",
    "        return\n",
    "\n",
    "    print(\"Example output path: /Users/yourusername/Desktop/processed_image.jpg\")\n",
    "    output_image_path = input(\"Enter the path for the output image (default is ~/Desktop/processed_image.jpg): \") or os.path.join(desktop_path, \"processed_image.jpg\")\n",
    "    \n",
    "    image = load_image(input_image_path)\n",
    "\n",
    "    while True:\n",
    "        print(\"\\nChoose a function:\")\n",
    "        print(\"1. Invert image(反相)\")\n",
    "        print(\"2. Resize image(縮放)\")\n",
    "        print(\"3. Adjust brightness(亮度)\")\n",
    "        print(\"4. Adjust contrast(對比度)\")\n",
    "        print(\"5. Adjust color(彩度)\")\n",
    "        print(\"6. Rotate image(旋轉)\")\n",
    "        print(\"7. Crop image with fixed ratio(裁剪)\")\n",
    "        print(\"8. Quit(退出)\")\n",
    "        choice = input(\"Choose a function (1-8): \")\n",
    "\n",
    "        if choice == '1':\n",
    "            inverted_image = invert_image(image)\n",
    "            save_image(inverted_image, output_image_path)\n",
    "            inverted_image.show(title=\"Inverted Image\")\n",
    "\n",
    "        elif choice == '2':\n",
    "            scale_factor = float(input(\"Enter the scale factor (e.g., 0.5 for half size): \"))\n",
    "            resized_image = resize_image(image, scale_factor)\n",
    "            save_image(resized_image, output_image_path)\n",
    "            resized_image.show(title=\"Resized Image\")\n",
    "\n",
    "        elif choice == '3':\n",
    "            brightness_factor = float(input(\"Enter the brightness factor (e.g., 1.5 for 50% brighter): \"))\n",
    "            bright_image = adjust_brightness(image, brightness_factor)\n",
    "            save_image(bright_image, output_image_path)\n",
    "            bright_image.show(title=\"Brightened Image\")\n",
    "\n",
    "        elif choice == '4':\n",
    "            contrast_factor = float(input(\"Enter the contrast factor (e.g., 1.5 for 50% more contrast): \"))\n",
    "            contrast_image = adjust_contrast(image, contrast_factor)\n",
    "            save_image(contrast_image, output_image_path)\n",
    "            contrast_image.show(title=\"High Contrast Image\")\n",
    "\n",
    "        elif choice == '5':\n",
    "            color_factor = float(input(\"Enter the color factor (e.g., 1.5 for 50% more color): \"))\n",
    "            color_image = adjust_color(image, color_factor)\n",
    "            save_image(color_image, output_image_path)\n",
    "            color_image.show(title=\"Enhanced Color Image\")\n",
    "\n",
    "        elif choice == '6':\n",
    "            angle = float(input(\"Enter the rotation angle (e.g., 90 for 90 degrees): \"))\n",
    "            rotated_image = rotate_image(image, angle)\n",
    "            save_image(rotated_image, output_image_path)\n",
    "            rotated_image.show(title=\"Rotated Image\")\n",
    "\n",
    "        elif choice == '7':\n",
    "            img_width, img_height = image.size\n",
    "            print(f\"Image dimensions: width = {img_width}, height = {img_height}\")\n",
    "            center_x = int(input(f\"Enter the center x coordinate (0 to {img_width - 1}): \"))\n",
    "            center_y = int(input(f\"Enter the center y coordinate (0 to {img_height - 1}): \"))\n",
    "            ratio_width = int(input(\"Enter the width ratio (e.g., 16 for 16:9): \"))\n",
    "            ratio_height = int(input(\"Enter the height ratio (e.g., 9 for 16:9): \"))\n",
    "            \n",
    "            cropped_image = crop_image_fixed_ratio(image, center_x, center_y, ratio_width, ratio_height)\n",
    "            save_image(cropped_image, output_image_path)\n",
    "            cropped_image.show(title=\"Cropped Image with Fixed Ratio\")\n",
    "\n",
    "        elif choice == '8':\n",
    "            print(\"Exiting...\")\n",
    "            break\n",
    "\n",
    "        else:\n",
    "            print(\"Invalid choice, please choose a number between 1-8.\")\n",
    "\n",
    "if __name__ == \"__main__\":\n",
    "    main()\n"
   ]
  },
  {
   "cell_type": "code",
   "execution_count": null,
   "id": "15ffd2a6-dcd4-4bdd-b610-a4a863a5e397",
   "metadata": {},
   "outputs": [],
   "source": []
  }
 ],
 "metadata": {
  "kernelspec": {
   "display_name": "Python 3 (ipykernel)",
   "language": "python",
   "name": "python3"
  },
  "language_info": {
   "codemirror_mode": {
    "name": "ipython",
    "version": 3
   },
   "file_extension": ".py",
   "mimetype": "text/x-python",
   "name": "python",
   "nbconvert_exporter": "python",
   "pygments_lexer": "ipython3",
   "version": "3.11.5"
  }
 },
 "nbformat": 4,
 "nbformat_minor": 5
}
